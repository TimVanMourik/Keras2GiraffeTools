{
 "cells": [
  {
   "cell_type": "code",
   "execution_count": 1,
   "metadata": {},
   "outputs": [
    {
     "name": "stderr",
     "output_type": "stream",
     "text": [
      "Using TensorFlow backend.\n"
     ]
    }
   ],
   "source": [
    "import json\n",
    "import inspect\n",
    "import keras\n",
    "from importlib import import_module\n",
    "from copy import deepcopy"
   ]
  },
  {
   "cell_type": "code",
   "execution_count": 2,
   "metadata": {},
   "outputs": [],
   "source": [
    "toolbox = 'Keras'\n",
    "excluded_classes = ['K']\n",
    "layers = [layer for layer in dir(keras.layers) \n",
    "          if layer[0].isupper() and layer not in excluded_classes]"
   ]
  },
  {
   "cell_type": "code",
   "execution_count": 3,
   "metadata": {},
   "outputs": [],
   "source": [
    "sections = []\n",
    "keras_layers = []\n",
    "for class_name in layers:\n",
    "    module = eval('keras.layers.%s.__module__' % class_name)\n",
    "    if module.startswith('keras.layers.'):\n",
    "        section = module[len('keras.layers.'):]\n",
    "        sections.append(section)\n",
    "        keras_layers.append(tuple((class_name, section)))"
   ]
  },
  {
   "cell_type": "code",
   "execution_count": 4,
   "metadata": {},
   "outputs": [],
   "source": [
    "c = 'MaxPooling1D'\n",
    "module = eval('keras.layers.%s()' % c)\n",
    "config = module.get_config()\n",
    "ports = [{ 'name': port,\n",
    "           'input': True,\n",
    "           'output': False,\n",
    "           'visible': True,\n",
    "           'editable': True,\n",
    "           'default': config[port], \n",
    "           'code': []\n",
    "         } for port in config.keys()];"
   ]
  },
  {
   "cell_type": "code",
   "execution_count": 5,
   "metadata": {},
   "outputs": [],
   "source": [
    "sections = set(sections)\n",
    "categories = [{ 'name': section, 'nodes': [] } for section in list(sections)]\n",
    "dictionary = { 'name': toolbox, 'categories': categories}"
   ]
  },
  {
   "cell_type": "code",
   "execution_count": 6,
   "metadata": {},
   "outputs": [],
   "source": [
    "def keras2giraffe(name, section):\n",
    "    module = eval('keras.layers.%s()' % c)\n",
    "    inputs = module.get_config()\n",
    "    \n",
    "    ports = [{ 'name': port,\n",
    "               'input': False,\n",
    "               'output': False,\n",
    "               'visible': True,\n",
    "               'editable': True,\n",
    "               'default': inputs[port], \n",
    "               'code': []\n",
    "             } for port in inputs.keys()];\n",
    "    ports.insert(0, {\n",
    "        'name': 'INPUT',\n",
    "        'input': True,\n",
    "        'output': False,\n",
    "        'visible': True,\n",
    "        'editable': True, \n",
    "        'code': []\n",
    "    })\n",
    "    ports.append({\n",
    "        'name': 'OUTPUT',\n",
    "        'input': False,\n",
    "        'output': True,\n",
    "        'visible': True,\n",
    "        'editable': True,\n",
    "        'code': []\n",
    "    })\n",
    "    \n",
    "    return { \n",
    "        'name': name,\n",
    "        'category': [section],\n",
    "        'toolbox': toolbox,\n",
    "        'code': [],\n",
    "        'web_url': 'https://keras.io/layers/%s/%s' % (section, name),\n",
    "        'ports': ports\n",
    "    }"
   ]
  },
  {
   "cell_type": "code",
   "execution_count": 7,
   "metadata": {},
   "outputs": [],
   "source": [
    "for layer in keras_layers:\n",
    "    node = keras2giraffe(layer[0], layer[1])\n",
    "    [category for category in categories if category['name'] == layer[1]][0]['nodes'].append(node)"
   ]
  },
  {
   "cell_type": "code",
   "execution_count": 8,
   "metadata": {},
   "outputs": [],
   "source": [
    "with open('keras_nodes.json', 'w') as outfile:\n",
    "    json.dump({'toolboxes': [dictionary]}, outfile, sort_keys=False, indent=2)\n",
    "    # json.dump({'toolboxes': toolboxes}, outfile, separators=(',', ':'))"
   ]
  },
  {
   "cell_type": "code",
   "execution_count": 11,
   "metadata": {},
   "outputs": [
    {
     "data": {
      "text/plain": [
       "'C:\\\\Users\\\\timvmou\\\\GitHub'"
      ]
     },
     "execution_count": 11,
     "metadata": {},
     "output_type": "execute_result"
    }
   ],
   "source": [
    "import os\n",
    "cwd = os.getcwd()\n",
    "cwd"
   ]
  },
  {
   "cell_type": "code",
   "execution_count": null,
   "metadata": {},
   "outputs": [],
   "source": []
  }
 ],
 "metadata": {
  "kernelspec": {
   "display_name": "Python 3",
   "language": "python",
   "name": "python3"
  },
  "language_info": {
   "codemirror_mode": {
    "name": "ipython",
    "version": 3
   },
   "file_extension": ".py",
   "mimetype": "text/x-python",
   "name": "python",
   "nbconvert_exporter": "python",
   "pygments_lexer": "ipython3",
   "version": "3.7.3"
  }
 },
 "nbformat": 4,
 "nbformat_minor": 2
}
