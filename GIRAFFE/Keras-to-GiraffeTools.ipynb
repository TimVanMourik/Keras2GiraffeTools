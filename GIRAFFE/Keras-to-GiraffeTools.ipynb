{
 "cells": [
  {
   "cell_type": "code",
   "execution_count": 1,
   "metadata": {},
   "outputs": [
    {
     "name": "stderr",
     "output_type": "stream",
     "text": [
      "Using TensorFlow backend.\n"
     ]
    }
   ],
   "source": [
    "import json\n",
    "import inspect\n",
    "import keras\n",
    "import re\n",
    "from importlib import import_module\n",
    "from copy import deepcopy\n",
    "import pkg_resources\n"
   ]
  },
  {
   "cell_type": "code",
   "execution_count": 2,
   "metadata": {},
   "outputs": [],
   "source": [
    "toolbox = 'Keras'\n",
    "excluded_classes = ['K']\n",
    "layers = [layer for layer in dir(keras.layers) \n",
    "          if layer[0].isupper() and layer not in excluded_classes]"
   ]
  },
  {
   "cell_type": "code",
   "execution_count": 3,
   "metadata": {},
   "outputs": [],
   "source": [
    "def keras2giraffe(node, section):\n",
    "    try:\n",
    "        inputs = node().get_config()\n",
    "    except:\n",
    "        return {}\n",
    "    name = node.__name__\n",
    "    ports = [{ 'name': port,\n",
    "               'input': False,\n",
    "               'output': False,\n",
    "               'visible': True,\n",
    "               'editable': True,\n",
    "               'default': inputs[port], \n",
    "               'code': []\n",
    "             } for port in inputs.keys()];\n",
    "    ports.insert(0, {\n",
    "        'name': 'INPUT',\n",
    "        'input': True,\n",
    "        'output': False,\n",
    "        'visible': True,\n",
    "        'editable': True, \n",
    "        'code': []\n",
    "    })\n",
    "    ports.append({\n",
    "        'name': 'OUTPUT',\n",
    "        'input': False,\n",
    "        'output': True,\n",
    "        'visible': True,\n",
    "        'editable': True,\n",
    "        'code': []\n",
    "    })\n",
    "    \n",
    "    return { \n",
    "        'name': name,\n",
    "        'category': [section],\n",
    "        'toolbox': toolbox,\n",
    "        'code': [{\n",
    "            'language': toolbox,\n",
    "            'argument': {\n",
    "                'name': name,\n",
    "                'import': 'from keras.layers import %s' % name,\n",
    "            }\n",
    "        }],\n",
    "        'web_url': 'https://keras.io/layers/%s/%s' % (section, name),\n",
    "        'ports': ports\n",
    "    }"
   ]
  },
  {
   "cell_type": "code",
   "execution_count": 4,
   "metadata": {},
   "outputs": [
    {
     "name": "stderr",
     "output_type": "stream",
     "text": [
      "C:\\Users\\timvmou\\AppData\\Local\\Continuum\\anaconda3\\envs\\keras\\lib\\site-packages\\keras\\legacy\\layers.py:290: UserWarning: The `AtrousConvolution1D` layer  has been deprecated. Use instead the `Conv1D` layer with the `dilation_rate` argument.\n",
      "  warnings.warn('The `AtrousConvolution1D` layer '\n",
      "C:\\Users\\timvmou\\AppData\\Local\\Continuum\\anaconda3\\envs\\keras\\lib\\site-packages\\keras\\legacy\\layers.py:304: UserWarning: The `AtrousConvolution2D` layer  has been deprecated. Use instead the `Conv2D` layer with the `dilation_rate` argument.\n",
      "  warnings.warn('The `AtrousConvolution2D` layer '\n"
     ]
    }
   ],
   "source": [
    "pattern = re.compile(\"from .(?P<name>[a-z]+) import *\")\n",
    "keras_layers_init = pkg_resources.resource_string('keras.layers', '__init__.py')\n",
    "lines = [line.decode(\"utf-8\") for line in keras_layers_init.split(b'\\n') if pattern.match(line.decode(\"utf-8\"))]\n",
    "\n",
    "\n",
    "categories = []\n",
    "for line in lines:\n",
    "    module_name = pattern.match(line).group(\"name\")\n",
    "    module = import_module('keras.layers.%s' % module_name)\n",
    "    node_list = [getattr(module, n) for n in dir(module) if n[0].isupper() or n[0].isdigit()]\n",
    "    \n",
    "    nodes = [keras2giraffe(node, module_name) for node in node_list]\n",
    "    nodes = [node for node in nodes if bool(node)]\n",
    "    categories.append({ 'name': module_name, 'nodes': nodes })\n",
    "   \n",
    "dictionary = { 'name': toolbox, 'categories': categories }    "
   ]
  },
  {
   "cell_type": "code",
   "execution_count": 5,
   "metadata": {},
   "outputs": [],
   "source": [
    "with open('keras_nodes.json', 'w') as outfile:\n",
    "    json.dump({'toolboxes': [dictionary]}, outfile, sort_keys=False, indent=2)\n",
    "    # json.dump({'toolboxes': toolboxes}, outfile, separators=(',', ':'))"
   ]
  }
 ],
 "metadata": {
  "kernelspec": {
   "display_name": "Python 3",
   "language": "python",
   "name": "python3"
  },
  "language_info": {
   "codemirror_mode": {
    "name": "ipython",
    "version": 3
   },
   "file_extension": ".py",
   "mimetype": "text/x-python",
   "name": "python",
   "nbconvert_exporter": "python",
   "pygments_lexer": "ipython3",
   "version": "3.7.3"
  }
 },
 "nbformat": 4,
 "nbformat_minor": 2
}
